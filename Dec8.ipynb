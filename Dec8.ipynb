{
 "cells": [
  {
   "cell_type": "code",
   "execution_count": 1,
   "metadata": {
    "collapsed": false
   },
   "outputs": [],
   "source": [
    "#!/usr/bin/env\n",
    "import numpy, re\n",
    "\n",
    "class BrokenScreen(object):\n",
    "    def __init__(self, x, y):\n",
    "        self.screen = numpy.zeros((x,y))\n",
    "    \n",
    "    def rect(self, x, y):\n",
    "        self.screen[0:y,0:x] = 1\n",
    "    \n",
    "    def rotate_column(self, x, by):\n",
    "        self.screen[0:,x] = numpy.roll(self.screen[0:,x], by)\n",
    "    \n",
    "    def rotate_row(self, y, by):\n",
    "        self.screen[y, 0:] = numpy.roll(self.screen[y, 0:], by)\n",
    "    \n",
    "    def cmd(self, input_str):\n",
    "        m = re.match('rect (\\d+)x(\\d+)', input_str)\n",
    "        if m:\n",
    "            self.rect(int(m.group(1)), int(m.group(2)))\n",
    "            return\n",
    "        m = re.match('rotate (?:row|column) y=(\\d+) by (\\d+)', input_str)\n",
    "        if m:\n",
    "            self.rotate_row(int(m.group(1)), int(m.group(2)))\n",
    "            return\n",
    "        m = re.match('rotate (?:row|column) x=(\\d+) by (\\d+)', input_str)\n",
    "        if m:\n",
    "            self.rotate_column(int(m.group(1)), int(m.group(2)))\n",
    "            return\n",
    "        print \"UNKNOWN COMMAND\", input_str\n",
    "\n",
    "    def __str__(self):\n",
    "        return '\\n'.join([''.join([('#' if e else '.') for e in row]) for row in self.screen])"
   ]
  },
  {
   "cell_type": "code",
   "execution_count": 2,
   "metadata": {
    "collapsed": false
   },
   "outputs": [
    {
     "name": "stdout",
     "output_type": "stream",
     "text": [
      ".......\n",
      ".......\n",
      ".......\n",
      "rect 3x2\n",
      "###....\n",
      "###....\n",
      ".......\n",
      "rotate column x=1 by 1\n",
      "#.#....\n",
      "###....\n",
      ".#.....\n",
      "rotate row y=0 by 4\n",
      "....#.#\n",
      "###....\n",
      ".#.....\n",
      "rotate row x=1 by 1\n",
      ".#..#.#\n",
      "#.#....\n",
      ".#.....\n"
     ]
    }
   ],
   "source": [
    "scr = BrokenScreen(3,7)\n",
    "print str(scr)\n",
    "print \"rect 3x2\"\n",
    "scr.cmd(\"rect 3x2\")\n",
    "print str(scr)\n",
    "print \"rotate column x=1 by 1\"\n",
    "scr.cmd(\"rotate column x=1 by 1\")\n",
    "print str(scr)\n",
    "print \"rotate row y=0 by 4\"\n",
    "scr.cmd(\"rotate row y=0 by 4\")\n",
    "print str(scr)\n",
    "print \"rotate row x=1 by 1\"\n",
    "scr.cmd(\"rotate row x=1 by 1\")\n",
    "print str(scr)"
   ]
  },
  {
   "cell_type": "code",
   "execution_count": 4,
   "metadata": {
    "collapsed": false
   },
   "outputs": [
    {
     "name": "stdout",
     "output_type": "stream",
     "text": [
      "110.0\n",
      "####...##.#..#.###..#..#..##..###..#....#...#..##.\n",
      "...#....#.#..#.#..#.#.#..#..#.#..#.#....#...#...#.\n",
      "..#.....#.####.#..#.##...#....#..#.#.....#.#....#.\n",
      ".#......#.#..#.###..#.#..#....###..#......#.....#.\n",
      "#....#..#.#..#.#.#..#.#..#..#.#....#......#..#..#.\n",
      "####..##..#..#.#..#.#..#..##..#....####...#...##..\n"
     ]
    }
   ],
   "source": [
    "scr = BrokenScreen(6,50)\n",
    "with open('Dec8.input', 'r') as f:\n",
    "    for line in f:\n",
    "        scr.cmd(line)\n",
    "print scr.screen.sum()\n",
    "print scr"
   ]
  }
 ],
 "metadata": {
  "kernelspec": {
   "display_name": "Python 2.7",
   "language": "python",
   "name": "python2.7"
  },
  "language_info": {
   "codemirror_mode": {
    "name": "ipython",
    "version": 2
   },
   "file_extension": ".py",
   "mimetype": "text/x-python",
   "name": "python",
   "nbconvert_exporter": "python",
   "pygments_lexer": "ipython2",
   "version": "2.7.6"
  }
 },
 "nbformat": 4,
 "nbformat_minor": 0
}
