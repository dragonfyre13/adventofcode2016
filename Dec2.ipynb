{
 "cells": [
  {
   "cell_type": "code",
   "execution_count": 1,
   "metadata": {
    "collapsed": false
   },
   "outputs": [
    {
     "name": "stdout",
     "output_type": "stream",
     "text": [
      "Keypad at (1,1), key 5\n"
     ]
    }
   ],
   "source": [
    "#!/usr/bin/env python\n",
    "from collections import deque\n",
    "\n",
    "class KeypadDirector(object):\n",
    "    def __init__(self, keypad=((3,6,9),(2,5,8),(1,4,7))):\n",
    "        # Keypad is oriented 90 degrees to the left so 2d tuple follows basic X,Y coordinate order\n",
    "        self.keypad = keypad\n",
    "        # Find and start at \"5\" on the keypad always\n",
    "        for x, y, v in [(x, y, v)\n",
    "                        for x, row in enumerate(keypad)\n",
    "                        for y, v in enumerate(row)]:\n",
    "            if str(v) == '5':\n",
    "                break\n",
    "        self.coords = [x,y]\n",
    "        # Movements dictionary to lookup the change in position on the keypad\n",
    "        self.movements = dict(R=(-1, 0), U=(0, -1), L=(1, 0), D=(0, 1))\n",
    "    \n",
    "    def follow_directions(self, commands):\n",
    "        try:\n",
    "            for command in commands:\n",
    "                movement = self.movements[command]\n",
    "                self.x += movement[0]\n",
    "                self.y += movement[1]\n",
    "        except KeyError:\n",
    "            raise ValueError('Commanded to move in %r direction' % command)\n",
    "        return self.key\n",
    "    \n",
    "    @property\n",
    "    def y(self):\n",
    "        return self.coords[1]\n",
    "    \n",
    "    @y.setter\n",
    "    def y(self, value):\n",
    "        try:\n",
    "            if value >=0 and self.keypad[self.coords[0]][value] is not None:\n",
    "                self.coords[1] = value\n",
    "        except IndexError:\n",
    "            pass\n",
    "    \n",
    "    @property\n",
    "    def x(self):\n",
    "        return self.coords[0]\n",
    "    \n",
    "    @x.setter\n",
    "    def x(self, value):\n",
    "        try:\n",
    "            if value >=0 and self.keypad[value][self.coords[1]] is not None:\n",
    "                self.coords[0] = value\n",
    "        except IndexError:\n",
    "            pass\n",
    "    \n",
    "    @property\n",
    "    def key(self):\n",
    "        return self.keypad[self.coords[0]][self.coords[1]]\n",
    "    \n",
    "    def __str__(self):\n",
    "        return 'Keypad at (%i,%i), key %i' % (\n",
    "            self.x, self.y, self.key)\n",
    "\n",
    "print KeypadDirector()"
   ]
  },
  {
   "cell_type": "code",
   "execution_count": 2,
   "metadata": {
    "collapsed": true
   },
   "outputs": [],
   "source": [
    "# Example, 1985 for puzzle 1, 5DB3 for puzzle 2\n",
    "input_str = \"\"\"ULL\n",
    "RRDDD\n",
    "LURDL\n",
    "UUUUD\"\"\""
   ]
  },
  {
   "cell_type": "code",
   "execution_count": 3,
   "metadata": {
    "collapsed": false,
    "scrolled": true
   },
   "outputs": [],
   "source": [
    "#input_str = \"\"\"DUURRDRRURUUUDLRUDDLLLURULRRLDULDRDUULULLUUUDRDUDDURRULDRDDDUDDURLDLLDDRRURRUUUDDRUDDLLDDDURLRDDDULRDUDDRDRLRDUULDLDRDLUDDDLRDRLDLUUUDLRDLRUUUDDLUURRLLLUUUUDDLDRRDRDRLDRLUUDUDLDRUDDUDLLUUURUUDLULRDRULURURDLDLLDLLDUDLDRDULLDUDDURRDDLLRLLLLDLDRLDDUULRDRURUDRRRDDDUULRULDDLRLLLLRLLLLRLURRRLRLRDLULRRLDRULDRRLRURDDLDDRLRDLDRLULLRRUDUURRULLLRLRLRRUDLRDDLLRRUDUDUURRRDRDLDRUDLDRDLUUULDLRLLDRULRULLRLRDRRLRLULLRURUULRLLRRRDRLULUDDUUULDULDUDDDUDLRLLRDRDLUDLRLRRDDDURUUUDULDLDDLDRDDDLURLDRLDURUDRURDDDDDDULLDLDLU\n",
    "#LURLRUURDDLDDDLDDLULRLUUUDRDUUDDUDLDLDDLLUDURDRDRULULLRLDDUDRRDRUDLRLDDDURDUURLUURRLLDRURDRLDURUDLRLLDDLLRDRRLURLRRUULLLDRLULURULRRDLLLDLDLRDRRURUUUDUDRUULDLUDLURLRDRRLDRUDRUDURLDLDDRUULDURDUURLLUDRUUUUUURRLRULUDRDUDRLLDUDUDUULURUURURULLUUURDRLDDRLUURDLRULDRRRRLRULRDLURRUULURDRRLDLRUURUDRRRDRURRLDDURLUDLDRRLDRLLLLRDUDLULUDRLLLDULUDUULLULLRLURURURDRRDRUURDULRDDLRULLLLLLDLLURLRLLRDLLRLUDLRUDDRLLLDDUDRLDLRLDUDU\n",
    "#RRDDLDLRRUULRDLLURLRURDLUURLLLUUDDULLDRURDUDRLRDRDDUUUULDLUDDLRDULDDRDDDDDLRRDDDRUULDLUDUDRRLUUDDRUDLUUDUDLUDURDURDLLLLDUUUUURUUURDURUUUUDDURULLDDLDLDLULUDRULULULLLDRLRRLLDLURULRDLULRLDRRLDDLULDDRDDRURLDLUULULRDRDRDRRLLLURLLDUUUDRRUUURDLLLRUUDDDULRDRRUUDDUUUDLRRURUDDLUDDDUDLRUDRRDLLLURRRURDRLLULDUULLURRULDLURRUURURRLRDULRLULUDUULRRULLLDDDDURLRRRDUDULLRRDURUURUUULUDLDULLUURDRDRRDURDLUDLULRULRLLURULDRUURRRRDUDULLLLLRRLRUDDUDLLURLRDDLLDLLLDDUDDDDRDURRL\n",
    "#LLRURUDUULRURRUDURRDLUUUDDDDURUUDLLDLRULRUUDUURRLRRUDLLUDLDURURRDDLLRUDDUDLDUUDDLUUULUUURRURDDLUDDLULRRRUURLDLURDULULRULRLDUDLLLLDLLLLRLDLRLDLUULLDDLDRRRURDDRRDURUURLRLRDUDLLURRLDUULDRURDRRURDDDDUUUDDRDLLDDUDURDLUUDRLRDUDLLDDDDDRRDRDUULDDLLDLRUDULLRRLLDUDRRLRURRRRLRDUDDRRDDUUUDLULLRRRDDRUUUDUUURUULUDURUDLDRDRLDLRLLRLRDRDRULRURLDDULRURLRLDUURLDDLUDRLRUDDURLUDLLULDLDDULDUDDDUDRLRDRUUURDUULLDULUUULLLDLRULDULUDLRRURDLULUDUDLDDRDRUUULDLRURLRUURDLULUDLULLRD\n",
    "#UURUDRRDDLRRRLULLDDDRRLDUDLRRULUUDULLDUDURRDLDRRRDLRDUUUDRDRRLLDULRLUDUUULRULULRUDURDRDDLDRULULULLDURULDRUDDDURLLDUDUUUULRUULURDDDUUUURDLDUUURUDDLDRDLLUDDDDULRDLRUDRLRUDDURDLDRLLLLRLULRDDUDLLDRURDDUDRRLRRDLDDUDRRLDLUURLRLLRRRDRLRLLLLLLURULUURRDDRRLRLRUURDLULRUUDRRRLRLRULLLLUDRULLRDDRDDLDLDRRRURLURDDURRLUDDULRRDULRURRRURLUURDDDUDLDUURRRLUDUULULURLRDDRULDLRLLUULRLLRLUUURUUDUURULRRRUULUULRULDDURLDRRULLRDURRDDDLLUDLDRRRRUULDDD\"\"\""
   ]
  },
  {
   "cell_type": "code",
   "execution_count": 4,
   "metadata": {
    "collapsed": false
   },
   "outputs": [
    {
     "name": "stdout",
     "output_type": "stream",
     "text": [
      "1985\n"
     ]
    }
   ],
   "source": [
    "# Solution for problem 1\n",
    "k = KeypadDirector(keypad = ((3,6,9),\n",
    "                             (2,5,8),\n",
    "                             (1,4,7)))\n",
    "password = []\n",
    "# Read in the input directions, appending to password to be joined later\n",
    "for command in input_str.splitlines():\n",
    "    location = str(k.follow_directions(command))\n",
    "    password.append(location)\n",
    "    #print location\n",
    "print ''.join(password)"
   ]
  },
  {
   "cell_type": "code",
   "execution_count": 5,
   "metadata": {
    "collapsed": false
   },
   "outputs": [
    {
     "name": "stdout",
     "output_type": "stream",
     "text": [
      "5DB3\n"
     ]
    }
   ],
   "source": [
    "# Solution for problem 2, different kind of keypad\n",
    "k = KeypadDirector(keypad = ((None, None, 9,  None, None),\n",
    "                             (None, 4,    8,  'C',  None),\n",
    "                             (1,    3,    7,  'B',  'D'),\n",
    "                             (None, 2,    6,  'A',  None),\n",
    "                             (None, None, 5,  None, None)))\n",
    "password = []\n",
    "# Read in the input directions, appending to password to be joined later\n",
    "for command in input_str.splitlines():\n",
    "    password.append(str(k.follow_directions(command)))\n",
    "print ''.join(password)"
   ]
  }
 ],
 "metadata": {
  "kernelspec": {
   "display_name": "Python 2.7",
   "language": "python",
   "name": "python2.7"
  },
  "language_info": {
   "codemirror_mode": {
    "name": "ipython",
    "version": 2
   },
   "file_extension": ".py",
   "mimetype": "text/x-python",
   "name": "python",
   "nbconvert_exporter": "python",
   "pygments_lexer": "ipython2",
   "version": "2.7.6"
  }
 },
 "nbformat": 4,
 "nbformat_minor": 0
}
