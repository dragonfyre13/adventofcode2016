{
 "cells": [
  {
   "cell_type": "code",
   "execution_count": 1,
   "metadata": {
    "collapsed": true
   },
   "outputs": [],
   "source": [
    "#!/usr/bin/env python\n",
    "import hashlib\n",
    "\n",
    "def iter_solve(password):\n",
    "    salt = 0\n",
    "    while True:\n",
    "        digest = hashlib.md5(password + str(salt)).hexdigest()\n",
    "        if digest.startswith('00000'):\n",
    "            yield digest\n",
    "        salt += 1\n",
    "\n",
    "def solve_first(password):\n",
    "    digests = iter_solve(password)\n",
    "    return ''.join([digests.next()[5] for dummy in range(8)])\n",
    "\n",
    "def solve_second(password):\n",
    "    digests = iter_solve(password)\n",
    "    solution = [None] * 8\n",
    "    while None in solution:\n",
    "        digest = digests.next()\n",
    "        if digest[5].isdigit() and int(digest[5]) < 8 and solution[int(digest[5])] is None:\n",
    "            solution[int(digest[5])] = digest[6]\n",
    "    return ''.join(solution)"
   ]
  },
  {
   "cell_type": "code",
   "execution_count": 2,
   "metadata": {
    "collapsed": false
   },
   "outputs": [
    {
     "name": "stdout",
     "output_type": "stream",
     "text": [
      "18f47a30 18f47a30\n"
     ]
    }
   ],
   "source": [
    "# Example, puzzle 1\n",
    "print solve_first('abc'), '18f47a30'"
   ]
  },
  {
   "cell_type": "code",
   "execution_count": 3,
   "metadata": {
    "collapsed": false
   },
   "outputs": [
    {
     "name": "stdout",
     "output_type": "stream",
     "text": [
      "05ace8e3 05ace8e3\n"
     ]
    }
   ],
   "source": [
    "# Example, puzzle 2\n",
    "print solve_second('abc'), '05ace8e3'"
   ]
  },
  {
   "cell_type": "code",
   "execution_count": 4,
   "metadata": {
    "collapsed": false
   },
   "outputs": [
    {
     "name": "stdout",
     "output_type": "stream",
     "text": [
      "1a3099aa\n"
     ]
    }
   ],
   "source": [
    "# Solution 1\n",
    "print solve_first('uqwqemis')"
   ]
  },
  {
   "cell_type": "code",
   "execution_count": 5,
   "metadata": {
    "collapsed": false
   },
   "outputs": [
    {
     "name": "stdout",
     "output_type": "stream",
     "text": [
      "694190cd\n"
     ]
    }
   ],
   "source": [
    "# Solution 2\n",
    "print solve_second('uqwqemis')"
   ]
  }
 ],
 "metadata": {
  "kernelspec": {
   "display_name": "Python 2.7",
   "language": "python",
   "name": "python2.7"
  },
  "language_info": {
   "codemirror_mode": {
    "name": "ipython",
    "version": 2
   },
   "file_extension": ".py",
   "mimetype": "text/x-python",
   "name": "python",
   "nbconvert_exporter": "python",
   "pygments_lexer": "ipython2",
   "version": "2.7.6"
  }
 },
 "nbformat": 4,
 "nbformat_minor": 0
}
