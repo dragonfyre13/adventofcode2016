{
 "cells": [
  {
   "cell_type": "code",
   "execution_count": 1,
   "metadata": {
    "collapsed": false
   },
   "outputs": [],
   "source": [
    "#!/usr/bin/env\n",
    "from cStringIO import StringIO\n",
    "\n",
    "def decompress_len_shallow(input_str):\n",
    "    return sum(decomp_len_iter(input_str.replace(' ',''), False))\n",
    "\n",
    "def decompress_len_deep(input_str):\n",
    "    return sum(decomp_len_iter(input_str.replace(' ',''), True))\n",
    "\n",
    "def decomp_len_iter(input_str, deep_decompression):\n",
    "    # Should really use a single bytearray here and pass it into recursive calls\n",
    "    # Pre-optimization is the root of all evil, and recreating is the quickest/simplest way for now.\n",
    "    s = StringIO(input_str)\n",
    "    s.seek(0)\n",
    "    while True:\n",
    "        char = s.read(1)\n",
    "        if char == '(':\n",
    "            repeat_cmd = [char]\n",
    "            while not repeat_cmd[-1] == ')':\n",
    "                repeat_cmd.append(s.read(1))\n",
    "            charnum, count = ''.join(repeat_cmd[1:-1]).split('x')\n",
    "            if deep_decompression:\n",
    "                yield sum(decomp_len_iter(s.read(int(charnum)), deep_decompression)) * int(count)\n",
    "            else:\n",
    "                yield len(s.read(int(charnum))) * int(count)\n",
    "        elif char == '':\n",
    "            return\n",
    "        else:\n",
    "            yield 1"
   ]
  },
  {
   "cell_type": "code",
   "execution_count": 2,
   "metadata": {
    "collapsed": false
   },
   "outputs": [
    {
     "name": "stdout",
     "output_type": "stream",
     "text": [
      "Puzzle 1 Examples Success\n",
      "Puzzle 2 Examples Success\n"
     ]
    }
   ],
   "source": [
    "assert decompress_len_shallow('ADVENT') == 6\n",
    "assert decompress_len_shallow('A(1x5)BC') == 7\n",
    "assert decompress_len_shallow('(3x3)XYZ') == 9\n",
    "assert decompress_len_shallow('A(2x2)BCD(2x2)EFG') == 11\n",
    "assert decompress_len_shallow('(6x1)(1x3)A') == 6\n",
    "assert decompress_len_shallow('X(8x2)(3x3)ABCY') == 18\n",
    "print \"Puzzle 1 Examples Success\"\n",
    "assert decompress_len_deep('(3x3)XYZ') == 9\n",
    "assert decompress_len_deep('X(8x2)(3x3)ABCY') == 20\n",
    "assert decompress_len_deep('(27x12)(20x12)(13x14)(7x10)(1x12)A') == 241920\n",
    "assert decompress_len_deep('(25x3)(3x3)ABC(2x3)XY(5x2)PQRSTX(18x9)(3x2)TWO(5x7)SEVEN') == 445\n",
    "print \"Puzzle 2 Examples Success\""
   ]
  },
  {
   "cell_type": "code",
   "execution_count": 3,
   "metadata": {
    "collapsed": false
   },
   "outputs": [
    {
     "name": "stdout",
     "output_type": "stream",
     "text": [
      "Puzzle 1 Solution\n",
      "115118\n"
     ]
    }
   ],
   "source": [
    "print \"Puzzle 1 Solution\"\n",
    "with open('Dec9.input', 'r') as f:\n",
    "    print decompress_len_shallow(f.read())"
   ]
  },
  {
   "cell_type": "code",
   "execution_count": 4,
   "metadata": {
    "collapsed": false
   },
   "outputs": [
    {
     "name": "stdout",
     "output_type": "stream",
     "text": [
      "Puzzle 2 Solution\n",
      "11107527530\n"
     ]
    }
   ],
   "source": [
    "print \"Puzzle 2 Solution\"\n",
    "with open('Dec9.input', 'r') as f:\n",
    "    print decompress_len_deep(f.read())"
   ]
  }
 ],
 "metadata": {
  "kernelspec": {
   "display_name": "Python 2.7",
   "language": "python",
   "name": "python2.7"
  },
  "language_info": {
   "codemirror_mode": {
    "name": "ipython",
    "version": 2
   },
   "file_extension": ".py",
   "mimetype": "text/x-python",
   "name": "python",
   "nbconvert_exporter": "python",
   "pygments_lexer": "ipython2",
   "version": "2.7.6"
  }
 },
 "nbformat": 4,
 "nbformat_minor": 0
}
