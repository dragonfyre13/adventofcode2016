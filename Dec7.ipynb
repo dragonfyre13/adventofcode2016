{
 "cells": [
  {
   "cell_type": "code",
   "execution_count": 1,
   "metadata": {
    "collapsed": false
   },
   "outputs": [],
   "source": [
    "#!/usr/bin/env python\n",
    "import re\n",
    "eval_abba = re.compile(r'([a-z])([a-z])(?!\\1)\\2\\1')\n",
    "eval_ssl = re.compile(r'([a-z])([a-z])(?!\\2)\\1')\n",
    "\n",
    "def get_subnets(ip):\n",
    "    supernets, hypernets = [], []\n",
    "    for i in range(100):\n",
    "        if '[' not in ip:\n",
    "            supernets.append(ip)\n",
    "            break\n",
    "        supernets.append(ip[:ip.index('[')])\n",
    "        hypernets.append(ip[ip.index('[')+1:ip.index(']', ip.index('['))])\n",
    "        ip = ip[ip.index(']', ip.index('['))+1:]\n",
    "    return supernets, hypernets\n",
    "\n",
    "def eval_progressive_re(subnet, regex):\n",
    "    pos, matches = 0, []\n",
    "    while True:\n",
    "        m = regex.search(subnet, pos)\n",
    "        if m:\n",
    "            pos = m.start()+1\n",
    "            matches.append(m.group(0))\n",
    "        else:\n",
    "            return matches\n",
    "\n",
    "def tls_capable(ip):\n",
    "    supernets, hypernets = get_subnets(ip)\n",
    "    if len([i for i in hypernets if eval_progressive_re(i, eval_abba)]):\n",
    "        return False\n",
    "    return len([i for i in supernets if eval_progressive_re(i, eval_abba)]) > 0\n",
    "\n",
    "def ssl_capable(ip):\n",
    "    supernets, hypernets = get_subnets(ip)\n",
    "    supernet_matches = set([(i[1], i[2]) for supernet in supernets for i in eval_progressive_re(supernet, eval_ssl)])\n",
    "    hypernet_matches = set([(i[2], i[1]) for hypernet in hypernets for i in eval_progressive_re(hypernet, eval_ssl)])\n",
    "    return len(hypernet_matches & supernet_matches)\n"
   ]
  },
  {
   "cell_type": "code",
   "execution_count": 2,
   "metadata": {
    "collapsed": false
   },
   "outputs": [
    {
     "name": "stdout",
     "output_type": "stream",
     "text": [
      "['zaz', 'zbz']\n",
      "['bzb']\n"
     ]
    }
   ],
   "source": [
    "print eval_progressive_re('zazbz', eval_ssl)\n",
    "print eval_progressive_re('bzb', eval_ssl)\n",
    "assert ssl_capable('zazbz[bzb]cdb')"
   ]
  },
  {
   "cell_type": "code",
   "execution_count": 3,
   "metadata": {
    "collapsed": false
   },
   "outputs": [
    {
     "name": "stdout",
     "output_type": "stream",
     "text": [
      "Solution 1 examples passed\n",
      "Solution 2 examples passed\n"
     ]
    }
   ],
   "source": [
    "assert tls_capable('abba[mnop]qrst')\n",
    "assert not tls_capable('abcd[bddb]xyyx')\n",
    "assert not tls_capable('aaaa[qwer]tyui')\n",
    "assert tls_capable('ioxxoj[asdfgh]zxcvbn')\n",
    "assert tls_capable('ioxxoj[asdfgh]zxcvbnabba[mnop]qrst')\n",
    "assert tls_capable('zxcvbn[asdfgh]qrst[mnop]ioxxoj')\n",
    "assert not tls_capable('ioxxoj[asdfgh]zxcvbabcd[bddb]xyyx')\n",
    "print \"Solution 1 examples passed\"\n",
    "assert ssl_capable('aba[bab]xyz')\n",
    "assert not ssl_capable('xyx[xyx]xyx')\n",
    "assert ssl_capable('aaa[kek]eke')\n",
    "assert ssl_capable('zazbz[bzb]cdb')\n",
    "assert ssl_capable('zazabz[zaz]cdb')\n",
    "print \"Solution 2 examples passed\""
   ]
  },
  {
   "cell_type": "code",
   "execution_count": 4,
   "metadata": {
    "collapsed": false
   },
   "outputs": [
    {
     "name": "stdout",
     "output_type": "stream",
     "text": [
      "110\n"
     ]
    }
   ],
   "source": [
    "total_ip_matching = 0\n",
    "with open('Dec7.input', 'ra') as f:\n",
    "    for input_str in f:\n",
    "        if tls_capable(input_str):\n",
    "            total_ip_matching += 1\n",
    "print total_ip_matching"
   ]
  },
  {
   "cell_type": "code",
   "execution_count": 5,
   "metadata": {
    "collapsed": false
   },
   "outputs": [
    {
     "name": "stdout",
     "output_type": "stream",
     "text": [
      "242\n"
     ]
    }
   ],
   "source": [
    "total_ip_matching = 0\n",
    "with open('Dec7.input', 'ra') as f:\n",
    "    for input_str in f:\n",
    "        if ssl_capable(input_str):\n",
    "            total_ip_matching += 1\n",
    "print total_ip_matching"
   ]
  }
 ],
 "metadata": {
  "kernelspec": {
   "display_name": "Python 2.7",
   "language": "python",
   "name": "python2.7"
  },
  "language_info": {
   "codemirror_mode": {
    "name": "ipython",
    "version": 2
   },
   "file_extension": ".py",
   "mimetype": "text/x-python",
   "name": "python",
   "nbconvert_exporter": "python",
   "pygments_lexer": "ipython2",
   "version": "2.7.6"
  }
 },
 "nbformat": 4,
 "nbformat_minor": 0
}
