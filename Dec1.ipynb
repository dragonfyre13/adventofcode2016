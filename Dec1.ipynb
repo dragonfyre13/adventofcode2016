{
 "cells": [
  {
   "cell_type": "code",
   "execution_count": 1,
   "metadata": {
    "collapsed": false
   },
   "outputs": [
    {
     "name": "stdout",
     "output_type": "stream",
     "text": [
      "Taxi at (0,0) facing N, 0 steps from (0,0)\n"
     ]
    }
   ],
   "source": [
    "#!/usr/bin/env python\n",
    "from collections import deque\n",
    "\n",
    "class Taxi(object):\n",
    "    def __init__(self, x=0, y=0, direction='N'):\n",
    "        # Absolute location starting from 0,0 (origination point)\n",
    "        self.location = [0,0]\n",
    "        self.visited_locations = []\n",
    "        self.repeated_locations = []\n",
    "        # North, West, South, East.\n",
    "        # Rotate left vs right for correct cardinal direction being element 0\n",
    "        self.cardinal_directions = deque([(0,1,'N'), (-1, 0,'E'), (0,-1,'S'), (1,0,'W')])\n",
    "    \n",
    "    def set_location(self, x, y):\n",
    "        self.location = [x,y]\n",
    "        \n",
    "    def set_direction(self, new_direction):\n",
    "        new_direction = new_direction.upper()\n",
    "        if new_direction not in 'NSEW':\n",
    "            raise ValueError('%r is not N, S, E or W (cardinal direction)' % new_direction)\n",
    "        # Start out pointing north\n",
    "        self.cardinal_directions = deque([(0,1,'N'), (-1, 0,'E'), (0,-1,'S'), (1,0,'W')])\n",
    "        turns = dict(N=0, E=1, S=2, W=3)\n",
    "        self.turn_right(turns[new_direction])\n",
    "\n",
    "    def turn_left(self, number_turns=1):\n",
    "        self.cardinal_directions.rotate(-1 * number_turns)\n",
    "    \n",
    "    def turn_right(self, number_turns=1):\n",
    "        self.cardinal_directions.rotate(1 * number_turns)\n",
    "    \n",
    "    def step_forward(self, steps=1):\n",
    "        for i in range(steps):\n",
    "            self.location[0] += self.direction[0]\n",
    "            self.location[1] += self.direction[1]\n",
    "            if tuple(self.location) in self.visited_locations:\n",
    "                self.repeated_locations.append(tuple(self.location + [self.direction[2], abs(self.x) + abs(self.y)]))\n",
    "            self.visited_locations.append(tuple(self.location))\n",
    "    \n",
    "    def follow_directions(self, command):\n",
    "        # Takes the form of \"L232\" for \"turn left and walk 232 steps\"\n",
    "        if command[0] == 'L':\n",
    "            self.turn_left()\n",
    "        elif command[0] == 'R':\n",
    "            self.turn_right()\n",
    "        else:\n",
    "            raise ValueError('Commanded to turn to the %r relative direction' % command[0])\n",
    "        self.step_forward(int(command[1:]))\n",
    "    \n",
    "    @property\n",
    "    def x(self):\n",
    "        return self.location[0]\n",
    "    \n",
    "    @property\n",
    "    def y(self):\n",
    "        return self.location[1]\n",
    "    \n",
    "    @property\n",
    "    def direction(self):\n",
    "        return self.cardinal_directions[0]\n",
    "    \n",
    "    def __str__(self):\n",
    "        return 'Taxi at (%i,%i) facing %s, %i steps from (0,0)' % (\n",
    "            self.x, self.y, self.direction[2], abs(self.x) + abs(self.y))\n",
    "\n",
    "print Taxi()"
   ]
  },
  {
   "cell_type": "code",
   "execution_count": 2,
   "metadata": {
    "collapsed": false,
    "scrolled": true
   },
   "outputs": [],
   "source": [
    "input_dir = \"R2, L1, R2, R1, R1, L3, R3, L5, L5, L2, L1, R4, R1, R3, L5, L5, R3, L4, L4, R5, R4, R3, L1, L2, R5, R4, L2, R1, R4, R4, L2, L1, L1, R190, R3, L4, R52, R5, R3, L5, R3, R2, R1, L5, L5, L4, R2, L3, R3, L1, L3, R5, L3, L4, R3, R77, R3, L2, R189, R4, R2, L2, R2, L1, R5, R4, R4, R2, L2, L2, L5, L1, R1, R2, L3, L4, L5, R1, L1, L2, L2, R2, L3, R3, L4, L1, L5, L4, L4, R3, R5, L2, R4, R5, R3, L2, L2, L4, L2, R2, L5, L4, R3, R1, L2, R2, R4, L1, L4, L4, L2, R2, L4, L1, L1, R4, L1, L3, L2, L2, L5, R5, R2, R5, L1, L5, R2, R4, R4, L2, R5, L5, R5, R5, L4, R2, R1, R1, R3, L3, L3, L4, L3, L2, L2, L2, R2, L1, L3, R2, R5, R5, L4, R3, L3, L4, R2, L5, R5\""
   ]
  },
  {
   "cell_type": "code",
   "execution_count": 3,
   "metadata": {
    "collapsed": true
   },
   "outputs": [],
   "source": [
    "t = Taxi()\n",
    "# Read in the input directions\n",
    "for command in input_dir.split(', '):\n",
    "    t.follow_directions(command)"
   ]
  },
  {
   "cell_type": "code",
   "execution_count": 4,
   "metadata": {
    "collapsed": false
   },
   "outputs": [
    {
     "name": "stdout",
     "output_type": "stream",
     "text": [
      "Taxi at (147,-87) facing W, 234 steps from (0,0)\n"
     ]
    }
   ],
   "source": [
    "# Solution for problem 1\n",
    "print t"
   ]
  },
  {
   "cell_type": "code",
   "execution_count": 5,
   "metadata": {
    "collapsed": false
   },
   "outputs": [
    {
     "name": "stdout",
     "output_type": "stream",
     "text": [
      "(16, -97, 'W', 113)\n"
     ]
    }
   ],
   "source": [
    "# Solution for problem 2\n",
    "print t.repeated_locations[0]"
   ]
  }
 ],
 "metadata": {
  "kernelspec": {
   "display_name": "Python 2.7",
   "language": "python",
   "name": "python2.7"
  },
  "language_info": {
   "codemirror_mode": {
    "name": "ipython",
    "version": 2
   },
   "file_extension": ".py",
   "mimetype": "text/x-python",
   "name": "python",
   "nbconvert_exporter": "python",
   "pygments_lexer": "ipython2",
   "version": "2.7.6"
  }
 },
 "nbformat": 4,
 "nbformat_minor": 0
}
